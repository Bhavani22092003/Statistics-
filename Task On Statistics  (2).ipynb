{
 "cells": [
  {
   "cell_type": "markdown",
   "id": "e7fff47c",
   "metadata": {},
   "source": [
    "# Task (15-12-2023)"
   ]
  },
  {
   "cell_type": "code",
   "execution_count": 3,
   "id": "4ddd7a14",
   "metadata": {},
   "outputs": [],
   "source": [
    "import pandas as pd"
   ]
  },
  {
   "cell_type": "code",
   "execution_count": 4,
   "id": "861488ec",
   "metadata": {},
   "outputs": [],
   "source": [
    "data=pd.DataFrame({'productA':[25,30,28,32,26,29,27,33,31,28,30,29],'ProductB':[40,35,38,41,37,36,39,42,38,37,40,36]})"
   ]
  },
  {
   "cell_type": "code",
   "execution_count": 5,
   "id": "00633b38",
   "metadata": {},
   "outputs": [
    {
     "data": {
      "text/html": [
       "<div>\n",
       "<style scoped>\n",
       "    .dataframe tbody tr th:only-of-type {\n",
       "        vertical-align: middle;\n",
       "    }\n",
       "\n",
       "    .dataframe tbody tr th {\n",
       "        vertical-align: top;\n",
       "    }\n",
       "\n",
       "    .dataframe thead th {\n",
       "        text-align: right;\n",
       "    }\n",
       "</style>\n",
       "<table border=\"1\" class=\"dataframe\">\n",
       "  <thead>\n",
       "    <tr style=\"text-align: right;\">\n",
       "      <th></th>\n",
       "      <th>productA</th>\n",
       "      <th>ProductB</th>\n",
       "    </tr>\n",
       "  </thead>\n",
       "  <tbody>\n",
       "    <tr>\n",
       "      <th>0</th>\n",
       "      <td>25</td>\n",
       "      <td>40</td>\n",
       "    </tr>\n",
       "    <tr>\n",
       "      <th>1</th>\n",
       "      <td>30</td>\n",
       "      <td>35</td>\n",
       "    </tr>\n",
       "    <tr>\n",
       "      <th>2</th>\n",
       "      <td>28</td>\n",
       "      <td>38</td>\n",
       "    </tr>\n",
       "    <tr>\n",
       "      <th>3</th>\n",
       "      <td>32</td>\n",
       "      <td>41</td>\n",
       "    </tr>\n",
       "    <tr>\n",
       "      <th>4</th>\n",
       "      <td>26</td>\n",
       "      <td>37</td>\n",
       "    </tr>\n",
       "    <tr>\n",
       "      <th>5</th>\n",
       "      <td>29</td>\n",
       "      <td>36</td>\n",
       "    </tr>\n",
       "    <tr>\n",
       "      <th>6</th>\n",
       "      <td>27</td>\n",
       "      <td>39</td>\n",
       "    </tr>\n",
       "    <tr>\n",
       "      <th>7</th>\n",
       "      <td>33</td>\n",
       "      <td>42</td>\n",
       "    </tr>\n",
       "    <tr>\n",
       "      <th>8</th>\n",
       "      <td>31</td>\n",
       "      <td>38</td>\n",
       "    </tr>\n",
       "    <tr>\n",
       "      <th>9</th>\n",
       "      <td>28</td>\n",
       "      <td>37</td>\n",
       "    </tr>\n",
       "    <tr>\n",
       "      <th>10</th>\n",
       "      <td>30</td>\n",
       "      <td>40</td>\n",
       "    </tr>\n",
       "    <tr>\n",
       "      <th>11</th>\n",
       "      <td>29</td>\n",
       "      <td>36</td>\n",
       "    </tr>\n",
       "  </tbody>\n",
       "</table>\n",
       "</div>"
      ],
      "text/plain": [
       "    productA  ProductB\n",
       "0         25        40\n",
       "1         30        35\n",
       "2         28        38\n",
       "3         32        41\n",
       "4         26        37\n",
       "5         29        36\n",
       "6         27        39\n",
       "7         33        42\n",
       "8         31        38\n",
       "9         28        37\n",
       "10        30        40\n",
       "11        29        36"
      ]
     },
     "execution_count": 5,
     "metadata": {},
     "output_type": "execute_result"
    }
   ],
   "source": [
    "data"
   ]
  },
  {
   "cell_type": "code",
   "execution_count": 6,
   "id": "3f84642b",
   "metadata": {},
   "outputs": [],
   "source": [
    "import numpy as np"
   ]
  },
  {
   "cell_type": "code",
   "execution_count": 7,
   "id": "6641bf06",
   "metadata": {},
   "outputs": [],
   "source": [
    "productA=data.iloc[:,0] ##---> here Im acessing product A column "
   ]
  },
  {
   "cell_type": "code",
   "execution_count": 8,
   "id": "d1054aa0",
   "metadata": {},
   "outputs": [
    {
     "data": {
      "text/plain": [
       "0     25\n",
       "1     30\n",
       "2     28\n",
       "3     32\n",
       "4     26\n",
       "5     29\n",
       "6     27\n",
       "7     33\n",
       "8     31\n",
       "9     28\n",
       "10    30\n",
       "11    29\n",
       "Name: productA, dtype: int64"
      ]
     },
     "execution_count": 8,
     "metadata": {},
     "output_type": "execute_result"
    }
   ],
   "source": [
    "productA"
   ]
  },
  {
   "cell_type": "code",
   "execution_count": 9,
   "id": "0e66fceb",
   "metadata": {},
   "outputs": [],
   "source": [
    "productB=data.iloc[:,1] ## Accessing of productB column "
   ]
  },
  {
   "cell_type": "code",
   "execution_count": 10,
   "id": "b30a6636",
   "metadata": {},
   "outputs": [
    {
     "data": {
      "text/plain": [
       "0     40\n",
       "1     35\n",
       "2     38\n",
       "3     41\n",
       "4     37\n",
       "5     36\n",
       "6     39\n",
       "7     42\n",
       "8     38\n",
       "9     37\n",
       "10    40\n",
       "11    36\n",
       "Name: ProductB, dtype: int64"
      ]
     },
     "execution_count": 10,
     "metadata": {},
     "output_type": "execute_result"
    }
   ],
   "source": [
    "productB"
   ]
  },
  {
   "cell_type": "markdown",
   "id": "374539e3",
   "metadata": {},
   "source": [
    "### Measures of Central Tendency :"
   ]
  },
  {
   "cell_type": "markdown",
   "id": "ece2e1b1",
   "metadata": {},
   "source": [
    "### Calculate the mean sales for Product A and Product B. Compare the average monthly sales for the two products and discuss any observed trends."
   ]
  },
  {
   "cell_type": "code",
   "execution_count": 11,
   "id": "2cb5f70e",
   "metadata": {},
   "outputs": [],
   "source": [
    "Mean_product_A=np.mean(data.iloc[:,0])"
   ]
  },
  {
   "cell_type": "code",
   "execution_count": 58,
   "id": "b57da3f6",
   "metadata": {},
   "outputs": [
    {
     "name": "stdout",
     "output_type": "stream",
     "text": [
      "The mean of product \"A\" : 29.0\n"
     ]
    }
   ],
   "source": [
    "print(f'The mean of product \"A\" : {Mean_product_A}') ## --->mean is nothng but average, -->sum of observations /total no. of observations"
   ]
  },
  {
   "cell_type": "code",
   "execution_count": 56,
   "id": "e13c1f7e",
   "metadata": {},
   "outputs": [
    {
     "name": "stdout",
     "output_type": "stream",
     "text": [
      "The mean of product \"B\" : 38.25\n"
     ]
    }
   ],
   "source": [
    "mean_product_B=np.mean(productB)\n",
    "print(f'The mean of product \"B\" : {mean_product_B}')"
   ]
  },
  {
   "cell_type": "markdown",
   "id": "64e5387b",
   "metadata": {},
   "source": [
    "* In the above ,the mean of Product A is 29.0 and the mean of product B is 38.25 .\n",
    "* so,here Product B have more average monthly sales "
   ]
  },
  {
   "cell_type": "markdown",
   "id": "3368b8e4",
   "metadata": {},
   "source": [
    "### Find the median sales for each product and discuss how it reflects the central tendency of the sales distribution."
   ]
  },
  {
   "cell_type": "code",
   "execution_count": null,
   "id": "fbaa075f",
   "metadata": {},
   "outputs": [],
   "source": []
  },
  {
   "cell_type": "code",
   "execution_count": 54,
   "id": "79239ca9",
   "metadata": {},
   "outputs": [
    {
     "data": {
      "text/plain": [
       "productA    29.0\n",
       "ProductB    38.0\n",
       "dtype: float64"
      ]
     },
     "execution_count": 54,
     "metadata": {},
     "output_type": "execute_result"
    }
   ],
   "source": [
    "median_of_Sales=data.median() ## median---> which is middle value,first we have to arrange in a asscending order .\n",
    "                               ## if the no. observations in a particular coloumn is ' even ' then,median is mean of 2 middle values in a coloumn\n",
    "median_of_Sales                 ## if the no. observations are odd then ,median is middle value in a particula column"
   ]
  },
  {
   "cell_type": "markdown",
   "id": "d67cda11",
   "metadata": {},
   "source": [
    "* Median of Prodcut \"B\" is Greater than Product \"A\".\n",
    "* the values of Product \"B\" has higher values ,when it is arranged in a order."
   ]
  },
  {
   "cell_type": "markdown",
   "id": "34677838",
   "metadata": {},
   "source": [
    "### Identify the mode of the sales data for both Product A and Product B. Discuss the significance of the mode in the context of these products.\n"
   ]
  },
  {
   "cell_type": "code",
   "execution_count": 59,
   "id": "a55ff78f",
   "metadata": {},
   "outputs": [
    {
     "data": {
      "text/html": [
       "<div>\n",
       "<style scoped>\n",
       "    .dataframe tbody tr th:only-of-type {\n",
       "        vertical-align: middle;\n",
       "    }\n",
       "\n",
       "    .dataframe tbody tr th {\n",
       "        vertical-align: top;\n",
       "    }\n",
       "\n",
       "    .dataframe thead th {\n",
       "        text-align: right;\n",
       "    }\n",
       "</style>\n",
       "<table border=\"1\" class=\"dataframe\">\n",
       "  <thead>\n",
       "    <tr style=\"text-align: right;\">\n",
       "      <th></th>\n",
       "      <th>productA</th>\n",
       "      <th>ProductB</th>\n",
       "    </tr>\n",
       "  </thead>\n",
       "  <tbody>\n",
       "    <tr>\n",
       "      <th>0</th>\n",
       "      <td>28.0</td>\n",
       "      <td>36</td>\n",
       "    </tr>\n",
       "    <tr>\n",
       "      <th>1</th>\n",
       "      <td>29.0</td>\n",
       "      <td>37</td>\n",
       "    </tr>\n",
       "    <tr>\n",
       "      <th>2</th>\n",
       "      <td>30.0</td>\n",
       "      <td>38</td>\n",
       "    </tr>\n",
       "    <tr>\n",
       "      <th>3</th>\n",
       "      <td>NaN</td>\n",
       "      <td>40</td>\n",
       "    </tr>\n",
       "  </tbody>\n",
       "</table>\n",
       "</div>"
      ],
      "text/plain": [
       "   productA  ProductB\n",
       "0      28.0        36\n",
       "1      29.0        37\n",
       "2      30.0        38\n",
       "3       NaN        40"
      ]
     },
     "execution_count": 59,
     "metadata": {},
     "output_type": "execute_result"
    }
   ],
   "source": [
    "Mode_of_sales=data.mode() ## mode---> which has more frequency ,in other word the no which is repeated more times in a coulmn that number is called mode\n",
    "Mode_of_sales             ### first we have to arrange the coloumn into ascending order .\n",
    "                           ## sometimes it having more than one mode in a coloumn according to the data "
   ]
  },
  {
   "cell_type": "markdown",
   "id": "077a37ae",
   "metadata": {},
   "source": [
    "### Calculate the weighted mean of the sales data, assuming each month has an equal weight. Discuss any implications of using weighted mean in this context."
   ]
  },
  {
   "attachments": {
    "image.png": {
     "image/png": "[encoded data removed]"
    }
   },
   "cell_type": "markdown",
   "id": "828608de",
   "metadata": {},
   "source": [
    "![image.png](attachment:image.png)"
   ]
  },
  {
   "cell_type": "code",
   "execution_count": 52,
   "id": "8adeeefd",
   "metadata": {},
   "outputs": [
    {
     "name": "stdout",
     "output_type": "stream",
     "text": [
      "The weighted mean of the sales product A : 28.999999999999996\n"
     ]
    }
   ],
   "source": [
    "weighted_Average_Mean_of_productA=(productA*(1/12)).sum() \n",
    "print(f'The weighted mean of the sales product A : {weighted_Average_Mean_of_productA}')"
   ]
  },
  {
   "cell_type": "code",
   "execution_count": 51,
   "id": "9fb53a10",
   "metadata": {},
   "outputs": [
    {
     "name": "stdout",
     "output_type": "stream",
     "text": [
      "the weighted mean of the sales data : 38.25\n"
     ]
    }
   ],
   "source": [
    "weighted_Average_Mean_of_productB=(productB*(1/12)).sum()\n",
    "print(f'the weighted mean of the sales product B : {weighted_Average_Mean_of_productB}')"
   ]
  },
  {
   "cell_type": "markdown",
   "id": "0b21f06e",
   "metadata": {},
   "source": [
    "* The weighted average mean of product \"B\" has higher than product \"A\"\n",
    "* a higher weighted average mean suggests that, when considering  values and weights of columns, the central tendency is higher in the column where the weighted average mean is high. It emphasizes the importance of understanding the distribution of weights and their implications in interpreting the central tendency of the dataset."
   ]
  },
  {
   "cell_type": "code",
   "execution_count": 18,
   "id": "5c685ade",
   "metadata": {},
   "outputs": [
    {
     "data": {
      "text/plain": [
       "0     2.083333\n",
       "1     2.500000\n",
       "2     2.333333\n",
       "3     2.666667\n",
       "4     2.166667\n",
       "5     2.416667\n",
       "6     2.250000\n",
       "7     2.750000\n",
       "8     2.583333\n",
       "9     2.333333\n",
       "10    2.500000\n",
       "11    2.416667\n",
       "Name: productA, dtype: float64"
      ]
     },
     "execution_count": 18,
     "metadata": {},
     "output_type": "execute_result"
    }
   ],
   "source": [
    "productA*1/12"
   ]
  },
  {
   "cell_type": "code",
   "execution_count": 19,
   "id": "44b14e40",
   "metadata": {},
   "outputs": [
    {
     "data": {
      "text/plain": [
       "0     3.333333\n",
       "1     2.916667\n",
       "2     3.166667\n",
       "3     3.416667\n",
       "4     3.083333\n",
       "5     3.000000\n",
       "6     3.250000\n",
       "7     3.500000\n",
       "8     3.166667\n",
       "9     3.083333\n",
       "10    3.333333\n",
       "11    3.000000\n",
       "Name: ProductB, dtype: float64"
      ]
     },
     "execution_count": 19,
     "metadata": {},
     "output_type": "execute_result"
    }
   ],
   "source": [
    "productB*1/12"
   ]
  },
  {
   "cell_type": "markdown",
   "id": "37e0860e",
   "metadata": {},
   "source": [
    "### Measures of Dispersion :"
   ]
  },
  {
   "cell_type": "code",
   "execution_count": 20,
   "id": "7e028b0d",
   "metadata": {},
   "outputs": [
    {
     "data": {
      "text/plain": [
       "0     25\n",
       "1     30\n",
       "2     28\n",
       "3     32\n",
       "4     26\n",
       "5     29\n",
       "6     27\n",
       "7     33\n",
       "8     31\n",
       "9     28\n",
       "10    30\n",
       "11    29\n",
       "Name: productA, dtype: int64"
      ]
     },
     "execution_count": 20,
     "metadata": {},
     "output_type": "execute_result"
    }
   ],
   "source": [
    "productA"
   ]
  },
  {
   "cell_type": "code",
   "execution_count": 21,
   "id": "399239d4",
   "metadata": {},
   "outputs": [
    {
     "data": {
      "text/plain": [
       "0     40\n",
       "1     35\n",
       "2     38\n",
       "3     41\n",
       "4     37\n",
       "5     36\n",
       "6     39\n",
       "7     42\n",
       "8     38\n",
       "9     37\n",
       "10    40\n",
       "11    36\n",
       "Name: ProductB, dtype: int64"
      ]
     },
     "execution_count": 21,
     "metadata": {},
     "output_type": "execute_result"
    }
   ],
   "source": [
    "productB"
   ]
  },
  {
   "cell_type": "markdown",
   "id": "baefc0b1",
   "metadata": {},
   "source": [
    "### Compute the range of monthly sales for both Product A and Product B. Discuss how the range provides insights into the variability of sales."
   ]
  },
  {
   "cell_type": "markdown",
   "id": "d810bce6",
   "metadata": {},
   "source": []
  },
  {
   "cell_type": "code",
   "execution_count": 22,
   "id": "ad530bc6",
   "metadata": {},
   "outputs": [
    {
     "data": {
      "text/plain": [
       "(33, 25)"
      ]
     },
     "execution_count": 22,
     "metadata": {},
     "output_type": "execute_result"
    }
   ],
   "source": [
    "max(productA),min(productA)"
   ]
  },
  {
   "cell_type": "code",
   "execution_count": 23,
   "id": "36380c7f",
   "metadata": {},
   "outputs": [],
   "source": [
    "range_of_productA=max(productA)-min(productA)"
   ]
  },
  {
   "cell_type": "code",
   "execution_count": 50,
   "id": "01f4b4c9",
   "metadata": {},
   "outputs": [
    {
     "name": "stdout",
     "output_type": "stream",
     "text": [
      "The range of monthly sales of product \"A\" : 8\n"
     ]
    }
   ],
   "source": [
    "print(f'The range of monthly sales of product \"A\" : {range_of_productA}')"
   ]
  },
  {
   "cell_type": "code",
   "execution_count": 49,
   "id": "048636fd",
   "metadata": {},
   "outputs": [
    {
     "data": {
      "text/plain": [
       "(42, 35)"
      ]
     },
     "execution_count": 49,
     "metadata": {},
     "output_type": "execute_result"
    }
   ],
   "source": [
    "max(productB),min(productB)"
   ]
  },
  {
   "cell_type": "code",
   "execution_count": 47,
   "id": "cb2acc76",
   "metadata": {},
   "outputs": [],
   "source": [
    "range_of_productB = max(productB) - min(productB)"
   ]
  },
  {
   "cell_type": "code",
   "execution_count": 48,
   "id": "664d8deb",
   "metadata": {},
   "outputs": [
    {
     "name": "stdout",
     "output_type": "stream",
     "text": [
      "The range of monthly sales of product \"B\" : 7\n"
     ]
    }
   ],
   "source": [
    "print(f'The range of monthly sales of product \"B\" : {range_of_productB}')"
   ]
  },
  {
   "cell_type": "markdown",
   "id": "85af46d3",
   "metadata": {},
   "source": [
    "### calculate the variance of the sales data for both products. Discuss what the variance reveals about the spread of sales for each product."
   ]
  },
  {
   "attachments": {
    "image.png": {
     "image/png": "[encoded data removed]"
    }
   },
   "cell_type": "markdown",
   "id": "6f7f9d88",
   "metadata": {},
   "source": [
    "![image.png](attachment:image.png)"
   ]
  },
  {
   "cell_type": "code",
   "execution_count": 28,
   "id": "d30c5c3f",
   "metadata": {},
   "outputs": [
    {
     "data": {
      "text/plain": [
       "0     25\n",
       "1     30\n",
       "2     28\n",
       "3     32\n",
       "4     26\n",
       "5     29\n",
       "6     27\n",
       "7     33\n",
       "8     31\n",
       "9     28\n",
       "10    30\n",
       "11    29\n",
       "Name: productA, dtype: int64"
      ]
     },
     "execution_count": 28,
     "metadata": {},
     "output_type": "execute_result"
    }
   ],
   "source": [
    "productA"
   ]
  },
  {
   "cell_type": "code",
   "execution_count": 29,
   "id": "8a2e761b",
   "metadata": {},
   "outputs": [
    {
     "data": {
      "text/plain": [
       "5.636363636363637"
      ]
     },
     "execution_count": 29,
     "metadata": {},
     "output_type": "execute_result"
    }
   ],
   "source": [
    "productA.var()"
   ]
  },
  {
   "cell_type": "code",
   "execution_count": 30,
   "id": "2ad0e6eb",
   "metadata": {},
   "outputs": [
    {
     "data": {
      "text/plain": [
       "0     40\n",
       "1     35\n",
       "2     38\n",
       "3     41\n",
       "4     37\n",
       "5     36\n",
       "6     39\n",
       "7     42\n",
       "8     38\n",
       "9     37\n",
       "10    40\n",
       "11    36\n",
       "Name: ProductB, dtype: int64"
      ]
     },
     "execution_count": 30,
     "metadata": {},
     "output_type": "execute_result"
    }
   ],
   "source": [
    "productB"
   ]
  },
  {
   "cell_type": "code",
   "execution_count": 31,
   "id": "b2fccd53",
   "metadata": {},
   "outputs": [
    {
     "data": {
      "text/plain": [
       "4.75"
      ]
     },
     "execution_count": 31,
     "metadata": {},
     "output_type": "execute_result"
    }
   ],
   "source": [
    "productB.var()"
   ]
  },
  {
   "cell_type": "markdown",
   "id": "92a6493c",
   "metadata": {},
   "source": [
    "* variance is nothing but spreading of data from the central tendency.\n",
    "* here product \"A\" values are more deviate from the central tendency.\n",
    "* product \"B\" has less deviations "
   ]
  },
  {
   "cell_type": "markdown",
   "id": "ff63ac00",
   "metadata": {},
   "source": [
    "###  Determine the standard deviation of the sales for Product A and Product B. Discuss the significance of standard deviation in understanding the variability in sales."
   ]
  },
  {
   "attachments": {
    "image.png": {
     "image/png": "[encoded data removed]"
    }
   },
   "cell_type": "markdown",
   "id": "b4cbe639",
   "metadata": {},
   "source": [
    "![image.png](attachment:image.png)"
   ]
  },
  {
   "cell_type": "code",
   "execution_count": 43,
   "id": "8d166d77",
   "metadata": {},
   "outputs": [
    {
     "name": "stdout",
     "output_type": "stream",
     "text": [
      "Standard deviation of Product \"A\" : 2.3741027013091993\n"
     ]
    }
   ],
   "source": [
    "productA_st_deviation=productA.std() ## square root of variance \n",
    "print(f'Standard deviation of Product \"A\" : {productA_st_deviation}')"
   ]
  },
  {
   "cell_type": "code",
   "execution_count": 44,
   "id": "c7777a70",
   "metadata": {},
   "outputs": [
    {
     "name": "stdout",
     "output_type": "stream",
     "text": [
      "Standarad deviation of product \"B\" 2.179449471770337\n"
     ]
    }
   ],
   "source": [
    "productB_st_deviation=productB.std() ## square root of variance \n",
    "print(f'Standarad deviation of product \"B\" {productB_st_deviation}')"
   ]
  },
  {
   "cell_type": "markdown",
   "id": "f78e811d",
   "metadata": {},
   "source": [
    "### Relative Measures of Dispersion :"
   ]
  },
  {
   "cell_type": "markdown",
   "id": "5098fb89",
   "metadata": {},
   "source": [
    "### Calculate the coefficient of variation for the sales data of Product A. Discuss how this relative measure of dispersion helps in comparing the variability of products with different average sales."
   ]
  },
  {
   "attachments": {
    "image.png": {
     "image/png": "[encoded data removed]"
    }
   },
   "cell_type": "markdown",
   "id": "b5ef4ad6",
   "metadata": {},
   "source": [
    "![image.png](attachment:image.png)"
   ]
  },
  {
   "cell_type": "code",
   "execution_count": 34,
   "id": "b48c82c3",
   "metadata": {},
   "outputs": [],
   "source": [
    "coefficient_of_variation_of_product_A = (productA_st_deviation /Mean_product_A) * 100"
   ]
  },
  {
   "cell_type": "code",
   "execution_count": 41,
   "id": "937765c9",
   "metadata": {},
   "outputs": [
    {
     "name": "stdout",
     "output_type": "stream",
     "text": [
      "The coeffiecient of variation for sales of product A : 8.186561038997239\n"
     ]
    }
   ],
   "source": [
    "print(f'The coeffiecient of variation for sales of product A : {coefficient_of_variation_of_product_A }')"
   ]
  },
  {
   "cell_type": "markdown",
   "id": "8de59884",
   "metadata": {},
   "source": [
    "### Compute the relative range for Product B. Discuss how the relative range accounts for the scale of the sales data."
   ]
  },
  {
   "attachments": {
    "image.png": {
     "image/png": "[encoded data removed]"
    }
   },
   "cell_type": "markdown",
   "id": "2a3332f7",
   "metadata": {},
   "source": [
    "![image.png](attachment:image.png)"
   ]
  },
  {
   "cell_type": "code",
   "execution_count": 36,
   "id": "a79a0a66",
   "metadata": {},
   "outputs": [],
   "source": [
    "relative_range_of_B = (range_of_productB/mean_product_B)"
   ]
  },
  {
   "cell_type": "code",
   "execution_count": 37,
   "id": "fa9de695",
   "metadata": {},
   "outputs": [
    {
     "name": "stdout",
     "output_type": "stream",
     "text": [
      "Relative Range for Product B : 0.1830065359477124\n"
     ]
    }
   ],
   "source": [
    "print(f'Relative Range for Product B : {relative_range_of_B}')"
   ]
  },
  {
   "cell_type": "markdown",
   "id": "6f657c35",
   "metadata": {},
   "source": [
    "### Determine the relative standard deviation for Product A. Interpret the result and discuss its implications for understanding the variability relative to the mean."
   ]
  },
  {
   "attachments": {
    "image.png": {
     "image/png": "[encoded data removed]"
    }
   },
   "cell_type": "markdown",
   "id": "8a2b695a",
   "metadata": {},
   "source": [
    "![image.png](attachment:image.png)"
   ]
  },
  {
   "cell_type": "code",
   "execution_count": 38,
   "id": "acbbc881",
   "metadata": {},
   "outputs": [],
   "source": [
    "relative_standard_deviation = (productA_st_deviation/Mean_product_A)*100"
   ]
  },
  {
   "cell_type": "code",
   "execution_count": 40,
   "id": "b46d7c60",
   "metadata": {},
   "outputs": [
    {
     "name": "stdout",
     "output_type": "stream",
     "text": [
      "Relative Standard  Deviation for Product A : 8.186561038997239\n"
     ]
    }
   ],
   "source": [
    "print(f'Relative Standard  Deviation for Product A : {relative_standard_deviation}')"
   ]
  },
  {
   "cell_type": "code",
   "execution_count": null,
   "id": "274eb8a1",
   "metadata": {},
   "outputs": [],
   "source": []
  }
 ],
 "metadata": {
  "kernelspec": {
   "display_name": "Python 3 (ipykernel)",
   "language": "python",
   "name": "python3"
  },
  "language_info": {
   "codemirror_mode": {
    "name": "ipython",
    "version": 3
   },
   "file_extension": ".py",
   "mimetype": "text/x-python",
   "name": "python",
   "nbconvert_exporter": "python",
   "pygments_lexer": "ipython3",
   "version": "3.11.5"
  }
 },
 "nbformat": 4,
 "nbformat_minor": 5
}
